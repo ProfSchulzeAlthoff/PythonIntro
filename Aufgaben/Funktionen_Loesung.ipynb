{
 "cells": [
  {
   "cell_type": "markdown",
   "id": "5bc155cc-46fb-4354-a981-69770ced0e83",
   "metadata": {},
   "source": [
    "# Einfache Funktionen"
   ]
  },
  {
   "cell_type": "code",
   "execution_count": 28,
   "id": "f9dd9b26-0dc9-4cb2-a501-5305ba0e5be2",
   "metadata": {},
   "outputs": [
    {
     "name": "stdout",
     "output_type": "stream",
     "text": [
      "lagerregal\n",
      "agerrega\n",
      "gerreg\n",
      "erre\n",
      "rr\n",
      "True\n",
      "donaudampfschiffahrt\n",
      "False\n",
      "Fakultät von 1: 1\n",
      "Fakultät von 4: 24\n",
      "Fakultät von 40: 815915283247897734345611269596115894272000000000\n",
      "Fakultät von 400: 64034522846623895262347970319503005850702583026002959458684445942802397169186831436278478647463264676294350575035856810848298162883517435228961988646802997937341654150838162426461942352307046244325015114448670890662773914918117331955996440709549671345290477020322434911210797593280795101545372667251627877890009349763765710326350331533965349868386831339352024373788157786791506311858702618270169819740062983025308591298346162272304558339520759611505302236086810433297255194852674432232438669948422404232599805551610635942376961399231917134063858996537970147827206606320217379472010321356624613809077942304597360699567595836096158715129913822286578579549361617654480453222007825818400848436415591229454275384803558374518022675900061399560145595206127211192918105032491008000000000000000000000000000000000000000000000000000000000000000000000000000000000000000000000000000\n",
      "Breite: 1, Höhe: 2, Umrechnung: 100, Fläche: 0.0001\n"
     ]
    }
   ],
   "source": [
    "# Codeblock 1\n",
    "# Einfache Funktion\n",
    "def teste_palindrom (teststring):   \n",
    "    while len(teststring)>0:\n",
    "        print (teststring)\n",
    "        if teststring[0] != teststring[-1]:\n",
    "            return False\n",
    "        teststring = teststring[1:-1]\n",
    "    else:\n",
    "        return True\n",
    "\n",
    "print(teste_palindrom(\"lagerregal\"))\n",
    "print(teste_palindrom(\"donaudampfschiffahrt\"))\n",
    "\n",
    "# Codeblock 2\n",
    "# Rekursive Funktion\n",
    "def fakultaet (zahl):\n",
    "    if zahl == 1:\n",
    "        return 1\n",
    "    else:\n",
    "        return zahl*fakultaet(zahl-1)\n",
    "\n",
    "\n",
    "print (f'Fakultät von 1: {fakultaet(1)}')\n",
    "print (f'Fakultät von 4: {fakultaet(4)}')   \n",
    "print (f'Fakultät von 40: {fakultaet(40)}')   \n",
    "print (f'Fakultät von 400: {fakultaet(400)}')   \n",
    "# print (f'Fakultät von 4000: {fakultaet(4000)}')  \n",
    "\n",
    "# Codeblock 3\n",
    "umrechnung = 100\n",
    "def dreiecksflaeche (breite, hoehe):\n",
    "    umrechnung = 0.01\n",
    "    breite = breite * umrechnung\n",
    "    hoehe = hoehe * umrechnung\n",
    "    flaeche = 0.5 * breite * hoehe\n",
    "    return flaeche\n",
    "\n",
    "breite = 1\n",
    "hoehe = 2\n",
    "dreiecksflaeche(breite,hoehe)\n",
    "print (f\"Breite: {breite}, Höhe: {hoehe}, Umrechnung: {umrechnung}, Fläche: {f}\")\n",
    "\n",
    "# Aufgabe 1: Warum wirft Codeblock 2 bei Aufruf von fakultaet(4000) einen Fehler?\n",
    "# Aufgabe 2: Schreiben Sie Codeblock 1 in eine rekursive Variante um, so dass Sie keine while Schleife mehr verwenden. \n",
    "# Aufgabe 3: Erklären Sie in Codeblock 3. Warum findet sich im print Statement die ursprüngliche Breite/Höhe/Umrechnung? Warum wird in der Funktion eine andere Umrechnung verwendet? Ändern Sie den Code so ab, dass der Wert für Umrechnung durch den Aufruf der Funktion auch ausserhalb auf 0.01 gesetzt ist.\n"
   ]
  },
  {
   "cell_type": "code",
   "execution_count": 10,
   "id": "f8bf1285-d3f2-4463-bc50-20988e766dd6",
   "metadata": {},
   "outputs": [
    {
     "name": "stdout",
     "output_type": "stream",
     "text": [
      "lagerregal\n",
      "agerrega\n",
      "gerreg\n",
      "erre\n",
      "rr\n",
      "\n",
      "True\n",
      "donaudampfschiffahrt\n",
      "False\n"
     ]
    }
   ],
   "source": [
    "def teste_palindrom (teststring): \n",
    "    print (teststring)\n",
    "    if len(teststring)<2:\n",
    "        return True\n",
    "    if teststring[0] != teststring[-1]:\n",
    "        return False\n",
    "    else: \n",
    "        return teste_palindrom (teststring[1:-1])\n",
    "\n",
    "print(teste_palindrom(\"lagerregal\"))\n",
    "print(teste_palindrom(\"donaudampfschiffahrt\"))"
   ]
  },
  {
   "cell_type": "code",
   "execution_count": null,
   "id": "8f93b876-18fe-4edb-b8da-7c61c22ba8ea",
   "metadata": {},
   "outputs": [],
   "source": []
  }
 ],
 "metadata": {
  "kernelspec": {
   "display_name": "Python [conda env:base] *",
   "language": "python",
   "name": "conda-base-py"
  },
  "language_info": {
   "codemirror_mode": {
    "name": "ipython",
    "version": 3
   },
   "file_extension": ".py",
   "mimetype": "text/x-python",
   "name": "python",
   "nbconvert_exporter": "python",
   "pygments_lexer": "ipython3",
   "version": "3.12.7"
  }
 },
 "nbformat": 4,
 "nbformat_minor": 5
}
