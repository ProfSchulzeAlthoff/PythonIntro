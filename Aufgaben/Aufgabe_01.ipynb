{
 "cells": [
  {
   "cell_type": "markdown",
   "id": "91af9829-6ae3-4c77-8dec-96ca65e7ed60",
   "metadata": {},
   "source": [
    "# Aufgabe 01\n",
    "Gegeben ist folgendes Polygon - bestehend aus einer Reihe von Stützpunkten mit x und y Wert"
   ]
  },
  {
   "cell_type": "code",
   "execution_count": 3,
   "id": "aadf0e09-eee2-4f16-89c2-e89f84cd3ab5",
   "metadata": {},
   "outputs": [],
   "source": [
    "polygon = ((7,6),(5,9),(6,10),(7,11),(8,13),(9,9),(12,10),(11,3),(13,4),(10,2),(9,8),(7,6))"
   ]
  },
  {
   "cell_type": "markdown",
   "id": "28239ab1-3416-45e3-a7e6-08733508eced",
   "metadata": {},
   "source": [
    "### a) Einfache Untersuchungen:\n",
    "* Prüfen Sie (mit Python Code!), ob der erste Stützpunkt und der letzte Stützpunkt gleich lauten.\n",
    "* Ermitteln Sie die 4 Stützpunkte der BoundingBox"
   ]
  },
  {
   "cell_type": "code",
   "execution_count": null,
   "id": "88fa9be4-21ba-4427-80e1-a1c027c82ab1",
   "metadata": {},
   "outputs": [
    {
     "name": "stdout",
     "output_type": "stream",
     "text": [
      "Der Linienzug ist geschlossen: True\n"
     ]
    }
   ],
   "source": [
    "# Ergänzen Sie den Code, dass angezeigt wird, ob der linienzug geschlossen ist\n",
    "# Der Linienzug ist geschlossen: True\n",
    "geschlossen = None\n",
    "print (f\"Der Linienzug ist geschlossen: {geschlossen}\") "
   ]
  },
  {
   "cell_type": "code",
   "execution_count": 1,
   "id": "3d01bc28-dfb2-4b8a-9206-36f56086976f",
   "metadata": {},
   "outputs": [
    {
     "name": "stdout",
     "output_type": "stream",
     "text": [
      "None\n"
     ]
    }
   ],
   "source": [
    "# ergänzen Sie den Code, so dass ein Tupel mit der Bounding Box ausgegeben wird\n",
    "# ((5, 13), (13, 13), (13, 2), (5, 2))\n",
    "bbox = None\n",
    "print (bbox)"
   ]
  },
  {
   "cell_type": "markdown",
   "id": "4e5936d1-06dd-4a39-85ca-0c20543e24fa",
   "metadata": {},
   "source": [
    "### b) Boxtest\n",
    "* Testen Sie, ob ein Liniensegment von Punkt a (7,5) zu Punkt b(4,9) die Bounding Box des Polygons schneiden könnte.\n",
    "  (siehe [Cohen-Sutherland](https://de.wikipedia.org/wiki/Algorithmus_von_Cohen-Sutherland))"
   ]
  },
  {
   "cell_type": "code",
   "execution_count": null,
   "id": "d2fe76e4-c520-422b-a598-137260044f95",
   "metadata": {},
   "outputs": [],
   "source": [
    "a, b = (13,10), (4,5)\n",
    "# Führen Sie eine Prüfung durch und geben Sie an, ob ein Schnitt möglich wäre\n"
   ]
  },
  {
   "cell_type": "markdown",
   "id": "6f9fc0cd-12d5-4bd3-bacb-ca5cdb259980",
   "metadata": {},
   "source": [
    "### c) Geradengleichungen für Schnitt\n",
    "Zur genauen Untersuchung müssen die Geradengleichungen aufgestellt werden und auf Schnitt geprüft werden (Sonderfälle, wie Parallelen und Senkrechte werden hier nicht betrachtet)."
   ]
  },
  {
   "cell_type": "code",
   "execution_count": null,
   "id": "1c3fa174-61e9-4876-a170-3ece09fac010",
   "metadata": {},
   "outputs": [
    {
     "name": "stdout",
     "output_type": "stream",
     "text": [
      "Das gegebene Liniensegment ab ((13, 10),(4, 5)) schneidet die Polygonlinie cd ((7, 6),(5, 9)): True\n",
      "Das gegebene Liniensegment ab ((13, 10),(4, 5)) schneidet die Polygonlinie cd ((5, 9),(6, 10)): False\n",
      "Das gegebene Liniensegment ab ((13, 10),(4, 5)) schneidet die Polygonlinie cd ((6, 10),(7, 11)): False\n",
      "Das gegebene Liniensegment ab ((13, 10),(4, 5)) schneidet die Polygonlinie cd ((7, 11),(8, 13)): False\n",
      "Das gegebene Liniensegment ab ((13, 10),(4, 5)) schneidet die Polygonlinie cd ((8, 13),(9, 9)): False\n",
      "Das gegebene Liniensegment ab ((13, 10),(4, 5)) schneidet die Polygonlinie cd ((9, 9),(12, 10)): False\n",
      "Das gegebene Liniensegment ab ((13, 10),(4, 5)) schneidet die Polygonlinie cd ((12, 10),(11, 3)): True\n",
      "Das gegebene Liniensegment ab ((13, 10),(4, 5)) schneidet die Polygonlinie cd ((11, 3),(13, 4)): False\n",
      "Das gegebene Liniensegment ab ((13, 10),(4, 5)) schneidet die Polygonlinie cd ((13, 4),(10, 2)): False\n",
      "Das gegebene Liniensegment ab ((13, 10),(4, 5)) schneidet die Polygonlinie cd ((10, 2),(9, 8)): True\n",
      "Das gegebene Liniensegment ab ((13, 10),(4, 5)) schneidet die Polygonlinie cd ((9, 8),(7, 6)): True\n"
     ]
    }
   ],
   "source": [
    "# Entwickeln Sie nun einen Code, welcher die Geradengleichungen der Strecke a-b \n",
    "# mit den Geradengleichungen der Polygonsegmente miteinander \n",
    "# und unter Beachtung der Wertebereiche vergleicht.\n",
    "# Geradengleichung für a-b\n",
    "steigung_ab = (b[1]-a[1])/(b[0]-a[0])\n",
    "abschn_ab = a[1] - steigung_ab*a[0]\n",
    "# Schnitt prüfen - Segment für Segment\n",
    "# ..."
   ]
  },
  {
   "cell_type": "code",
   "execution_count": null,
   "id": "593a3f52-f70e-458b-9143-a088cf84e6f7",
   "metadata": {},
   "outputs": [],
   "source": []
  }
 ],
 "metadata": {
  "kernelspec": {
   "display_name": "base",
   "language": "python",
   "name": "python3"
  },
  "language_info": {
   "codemirror_mode": {
    "name": "ipython",
    "version": 3
   },
   "file_extension": ".py",
   "mimetype": "text/x-python",
   "name": "python",
   "nbconvert_exporter": "python",
   "pygments_lexer": "ipython3",
   "version": "3.12.7"
  }
 },
 "nbformat": 4,
 "nbformat_minor": 5
}
