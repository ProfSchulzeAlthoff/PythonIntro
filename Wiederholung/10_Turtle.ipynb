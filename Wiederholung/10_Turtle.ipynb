{
 "cells": [
  {
   "cell_type": "markdown",
   "id": "5a48c18d-c327-4878-9782-79f2a6d0299d",
   "metadata": {},
   "source": [
    "# Turtle Modul\n",
    "Mit dem Modul 'Turtle' können Sie mit Python einfache Grafiken erstellen\n",
    "\n",
    "[https://docs.python.org/3/library/turtle.html](https://docs.python.org/3/library/turtle.html) "
   ]
  },
  {
   "cell_type": "code",
   "execution_count": 12,
   "id": "5a2e133e-36c7-49a6-a8ac-9045ebc04371",
   "metadata": {},
   "outputs": [],
   "source": [
    "import turtle as t"
   ]
  },
  {
   "cell_type": "markdown",
   "id": "6c23948e-1da6-4645-b70c-384f7ce456e9",
   "metadata": {},
   "source": [
    "## Screen\n",
    "Der Screen ist das Leinwand-Element, also der Grund auf dem gemalt wird. \n",
    "\n",
    "[https://docs.python.org/3/library/turtle.html#turtle.Screen](https://docs.python.org/3/library/turtle.html#turtle.Screen)"
   ]
  },
  {
   "cell_type": "code",
   "execution_count": 13,
   "id": "43b172f2-c1ef-418d-9e93-70fa8e559660",
   "metadata": {},
   "outputs": [],
   "source": [
    "scr = t.Screen()"
   ]
  },
  {
   "cell_type": "markdown",
   "id": "fb93cbc3-ed91-4a45-aa3f-f3510d41a2f1",
   "metadata": {},
   "source": [
    "Die Canvas kann über ihre Methoden angepasst werden. \n",
    "\n",
    "Z.B. die Größe und der Startpunkt [https://docs.python.org/3/library/turtle.html#turtle.setup](https://docs.python.org/3/library/turtle.html#turtle.setup)\n",
    "\n",
    "oder die Farbe [https://docs.python.org/3/library/turtle.html#turtle.bgcolor](https://docs.python.org/3/library/turtle.html#turtle.bgcolor) "
   ]
  },
  {
   "cell_type": "code",
   "execution_count": 14,
   "id": "c540b298-0831-4822-beab-6d5b1fbd7aba",
   "metadata": {},
   "outputs": [],
   "source": [
    "scr.setup (width=600, height=400, startx=300, starty=200)\n",
    "scr.bgcolor(\"black\")\n",
    "scr.title(\"Malen mit Turtle\")"
   ]
  },
  {
   "cell_type": "markdown",
   "id": "fba2d4b3-f6fd-4123-bdb2-bcac0af51991",
   "metadata": {},
   "source": [
    "## Turtle\n",
    "\n",
    "Auf dem Screen können jetzt **Schildkröten** ([https://docs.python.org/3/library/turtle.html#turtle.Turtle](https://docs.python.org/3/library/turtle.html#turtle.Turtle)) herumlaufen und eine Spur hinterlassen.\n",
    "\n",
    "Es gibt eine Reihe von Methoden für die Turtles, mit denen sich die Darstellungsform der Schildkröten, die Strichfarben, die Bewegungen etc. steuern lassen.\n",
    "\n"
   ]
  },
  {
   "cell_type": "code",
   "execution_count": null,
   "id": "cd1f5e5e-c3a8-40c6-b65a-20cd6822d080",
   "metadata": {},
   "outputs": [
    {
     "ename": "Terminator",
     "evalue": "",
     "output_type": "error",
     "traceback": [
      "\u001b[1;31m---------------------------------------------------------------------------\u001b[0m",
      "\u001b[1;31mTerminator\u001b[0m                                Traceback (most recent call last)",
      "Cell \u001b[1;32mIn[15], line 1\u001b[0m\n\u001b[1;32m----> 1\u001b[0m donatello \u001b[38;5;241m=\u001b[39m t\u001b[38;5;241m.\u001b[39mTurtle()\n\u001b[0;32m      2\u001b[0m donatello\u001b[38;5;241m.\u001b[39mpencolor(\u001b[38;5;124m\"\u001b[39m\u001b[38;5;124mred\u001b[39m\u001b[38;5;124m\"\u001b[39m)\n\u001b[0;32m      3\u001b[0m donatello\u001b[38;5;241m.\u001b[39mshape(\u001b[38;5;124m\"\u001b[39m\u001b[38;5;124mturtle\u001b[39m\u001b[38;5;124m\"\u001b[39m)\n",
      "File \u001b[1;32mc:\\Users\\schul\\anaconda3\\Lib\\turtle.py:3876\u001b[0m, in \u001b[0;36mTurtle.__init__\u001b[1;34m(self, shape, undobuffersize, visible)\u001b[0m\n\u001b[0;32m   3874\u001b[0m \u001b[38;5;28;01mif\u001b[39;00m Turtle\u001b[38;5;241m.\u001b[39m_screen \u001b[38;5;129;01mis\u001b[39;00m \u001b[38;5;28;01mNone\u001b[39;00m:\n\u001b[0;32m   3875\u001b[0m     Turtle\u001b[38;5;241m.\u001b[39m_screen \u001b[38;5;241m=\u001b[39m Screen()\n\u001b[1;32m-> 3876\u001b[0m RawTurtle\u001b[38;5;241m.\u001b[39m\u001b[38;5;21m__init__\u001b[39m(\u001b[38;5;28mself\u001b[39m, Turtle\u001b[38;5;241m.\u001b[39m_screen,\n\u001b[0;32m   3877\u001b[0m                    shape\u001b[38;5;241m=\u001b[39mshape,\n\u001b[0;32m   3878\u001b[0m                    undobuffersize\u001b[38;5;241m=\u001b[39mundobuffersize,\n\u001b[0;32m   3879\u001b[0m                    visible\u001b[38;5;241m=\u001b[39mvisible)\n",
      "File \u001b[1;32mc:\\Users\\schul\\anaconda3\\Lib\\turtle.py:2565\u001b[0m, in \u001b[0;36mRawTurtle.__init__\u001b[1;34m(self, canvas, shape, undobuffersize, visible)\u001b[0m\n\u001b[0;32m   2563\u001b[0m \u001b[38;5;28mself\u001b[39m\u001b[38;5;241m.\u001b[39m_undobuffersize \u001b[38;5;241m=\u001b[39m undobuffersize\n\u001b[0;32m   2564\u001b[0m \u001b[38;5;28mself\u001b[39m\u001b[38;5;241m.\u001b[39mundobuffer \u001b[38;5;241m=\u001b[39m Tbuffer(undobuffersize)\n\u001b[1;32m-> 2565\u001b[0m \u001b[38;5;28mself\u001b[39m\u001b[38;5;241m.\u001b[39m_update()\n",
      "File \u001b[1;32mc:\\Users\\schul\\anaconda3\\Lib\\turtle.py:2668\u001b[0m, in \u001b[0;36mRawTurtle._update\u001b[1;34m(self)\u001b[0m\n\u001b[0;32m   2666\u001b[0m     \u001b[38;5;28;01mreturn\u001b[39;00m\n\u001b[0;32m   2667\u001b[0m \u001b[38;5;28;01melif\u001b[39;00m screen\u001b[38;5;241m.\u001b[39m_tracing \u001b[38;5;241m==\u001b[39m \u001b[38;5;241m1\u001b[39m:\n\u001b[1;32m-> 2668\u001b[0m     \u001b[38;5;28mself\u001b[39m\u001b[38;5;241m.\u001b[39m_update_data()\n\u001b[0;32m   2669\u001b[0m     \u001b[38;5;28mself\u001b[39m\u001b[38;5;241m.\u001b[39m_drawturtle()\n\u001b[0;32m   2670\u001b[0m     screen\u001b[38;5;241m.\u001b[39m_update()                  \u001b[38;5;66;03m# TurtleScreenBase\u001b[39;00m\n",
      "File \u001b[1;32mc:\\Users\\schul\\anaconda3\\Lib\\turtle.py:2654\u001b[0m, in \u001b[0;36mRawTurtle._update_data\u001b[1;34m(self)\u001b[0m\n\u001b[0;32m   2653\u001b[0m \u001b[38;5;28;01mdef\u001b[39;00m \u001b[38;5;21m_update_data\u001b[39m(\u001b[38;5;28mself\u001b[39m):\n\u001b[1;32m-> 2654\u001b[0m     \u001b[38;5;28mself\u001b[39m\u001b[38;5;241m.\u001b[39mscreen\u001b[38;5;241m.\u001b[39m_incrementudc()\n\u001b[0;32m   2655\u001b[0m     \u001b[38;5;28;01mif\u001b[39;00m \u001b[38;5;28mself\u001b[39m\u001b[38;5;241m.\u001b[39mscreen\u001b[38;5;241m.\u001b[39m_updatecounter \u001b[38;5;241m!=\u001b[39m \u001b[38;5;241m0\u001b[39m:\n\u001b[0;32m   2656\u001b[0m         \u001b[38;5;28;01mreturn\u001b[39;00m\n",
      "File \u001b[1;32mc:\\Users\\schul\\anaconda3\\Lib\\turtle.py:1284\u001b[0m, in \u001b[0;36mTurtleScreen._incrementudc\u001b[1;34m(self)\u001b[0m\n\u001b[0;32m   1282\u001b[0m \u001b[38;5;28;01mif\u001b[39;00m \u001b[38;5;129;01mnot\u001b[39;00m TurtleScreen\u001b[38;5;241m.\u001b[39m_RUNNING:\n\u001b[0;32m   1283\u001b[0m     TurtleScreen\u001b[38;5;241m.\u001b[39m_RUNNING \u001b[38;5;241m=\u001b[39m \u001b[38;5;28;01mTrue\u001b[39;00m\n\u001b[1;32m-> 1284\u001b[0m     \u001b[38;5;28;01mraise\u001b[39;00m Terminator\n\u001b[0;32m   1285\u001b[0m \u001b[38;5;28;01mif\u001b[39;00m \u001b[38;5;28mself\u001b[39m\u001b[38;5;241m.\u001b[39m_tracing \u001b[38;5;241m>\u001b[39m \u001b[38;5;241m0\u001b[39m:\n\u001b[0;32m   1286\u001b[0m     \u001b[38;5;28mself\u001b[39m\u001b[38;5;241m.\u001b[39m_updatecounter \u001b[38;5;241m+\u001b[39m\u001b[38;5;241m=\u001b[39m \u001b[38;5;241m1\u001b[39m\n",
      "\u001b[1;31mTerminator\u001b[0m: "
     ]
    },
    {
     "ename": "",
     "evalue": "",
     "output_type": "error",
     "traceback": [
      "\u001b[1;31mThe Kernel crashed while executing code in the current cell or a previous cell. \n",
      "\u001b[1;31mPlease review the code in the cell(s) to identify a possible cause of the failure. \n",
      "\u001b[1;31mClick <a href='https://aka.ms/vscodeJupyterKernelCrash'>here</a> for more info. \n",
      "\u001b[1;31mView Jupyter <a href='command:jupyter.viewOutput'>log</a> for further details."
     ]
    }
   ],
   "source": [
    "donatello = t.Turtle()\n",
    "donatello.pencolor(\"red\")\n",
    "donatello.shape(\"turtle\")\n",
    "for i in range(4):\n",
    "    donatello.forward(100)\n",
    "    donatello.right(90)\n",
    "    donatello.stamp()"
   ]
  },
  {
   "cell_type": "code",
   "execution_count": null,
   "id": "adcf98fa-39e5-4119-878a-77ffaef8907a",
   "metadata": {},
   "outputs": [],
   "source": [
    "leonardo = t.Turtle()\n",
    "leonardo.pencolor(\"blue\")\n",
    "leonardo.fillcolor(\"blue\")\n",
    "leonardo.shape(\"turtle\")\n",
    "leonardo.penup()\n",
    "leonardo.backward(200)\n",
    "leonardo.pendown()\n",
    "leonardo.begin_fill()\n",
    "leonardo.circle(75)\n",
    "leonardo.end_fill()"
   ]
  },
  {
   "cell_type": "markdown",
   "id": "ac248a49-ce86-4a52-9206-88a49c0d5f8c",
   "metadata": {},
   "source": [
    "Um den Screen zu schliessen können Sie exitonclick verwenden\n"
   ]
  },
  {
   "cell_type": "code",
   "execution_count": 11,
   "id": "d6c02dfd-be41-423c-ad23-71d49faf2545",
   "metadata": {},
   "outputs": [],
   "source": [
    "scr.exitonclick()"
   ]
  },
  {
   "cell_type": "markdown",
   "id": "d45b582c",
   "metadata": {},
   "source": [
    "## Aufgabe\n",
    "Entwickeln Sie einen Programmcode, der 20 unterschiedliche Sterne (unterschiedliche Form, Farbe, Größe und Position) auf den Bildschirm malt (am besten als eigenständige Python Module mit der Endung .py).\n",
    "Nutzen Sie dazu die [Python Turtle Dokumentation](https://docs.python.org/3/library/turtle.html), Hilfe aus dem Internet (Google, ChatGPT, Copilot, ...) und die Beispiele Turtle.py, Turtle_OO.py, Turtle_OO2.py. Welche unterschiedlichen Ansätze erkennen Sie?\n",
    " "
   ]
  },
  {
   "cell_type": "code",
   "execution_count": 1,
   "id": "ae9290cc",
   "metadata": {},
   "outputs": [
    {
     "ename": "FileNotFoundError",
     "evalue": "[Errno 2] No such file or directory: 'html/texas_unemployment.html'",
     "output_type": "error",
     "traceback": [
      "\u001b[1;31m---------------------------------------------------------------------------\u001b[0m",
      "\u001b[1;31mFileNotFoundError\u001b[0m                         Traceback (most recent call last)",
      "Cell \u001b[1;32mIn[1], line 4\u001b[0m\n\u001b[0;32m      1\u001b[0m \u001b[38;5;28;01mfrom\u001b[39;00m \u001b[38;5;21;01mIPython\u001b[39;00m\u001b[38;5;21;01m.\u001b[39;00m\u001b[38;5;21;01mdisplay\u001b[39;00m \u001b[38;5;28;01mimport\u001b[39;00m display, HTML\n\u001b[0;32m      3\u001b[0m \u001b[38;5;66;03m# Read the HTML file content\u001b[39;00m\n\u001b[1;32m----> 4\u001b[0m \u001b[38;5;28;01mwith\u001b[39;00m \u001b[38;5;28mopen\u001b[39m(\u001b[38;5;124m\"\u001b[39m\u001b[38;5;124mhtml/texas_unemployment.html\u001b[39m\u001b[38;5;124m\"\u001b[39m, \u001b[38;5;124m\"\u001b[39m\u001b[38;5;124mr\u001b[39m\u001b[38;5;124m\"\u001b[39m) \u001b[38;5;28;01mas\u001b[39;00m file:\n\u001b[0;32m      5\u001b[0m     html_content \u001b[38;5;241m=\u001b[39m file\u001b[38;5;241m.\u001b[39mread()\n\u001b[0;32m      7\u001b[0m display(HTML(html_content))\n",
      "File \u001b[1;32mc:\\Users\\schul\\anaconda3\\Lib\\site-packages\\IPython\\core\\interactiveshell.py:324\u001b[0m, in \u001b[0;36m_modified_open\u001b[1;34m(file, *args, **kwargs)\u001b[0m\n\u001b[0;32m    317\u001b[0m \u001b[38;5;28;01mif\u001b[39;00m file \u001b[38;5;129;01min\u001b[39;00m {\u001b[38;5;241m0\u001b[39m, \u001b[38;5;241m1\u001b[39m, \u001b[38;5;241m2\u001b[39m}:\n\u001b[0;32m    318\u001b[0m     \u001b[38;5;28;01mraise\u001b[39;00m \u001b[38;5;167;01mValueError\u001b[39;00m(\n\u001b[0;32m    319\u001b[0m         \u001b[38;5;124mf\u001b[39m\u001b[38;5;124m\"\u001b[39m\u001b[38;5;124mIPython won\u001b[39m\u001b[38;5;124m'\u001b[39m\u001b[38;5;124mt let you open fd=\u001b[39m\u001b[38;5;132;01m{\u001b[39;00mfile\u001b[38;5;132;01m}\u001b[39;00m\u001b[38;5;124m by default \u001b[39m\u001b[38;5;124m\"\u001b[39m\n\u001b[0;32m    320\u001b[0m         \u001b[38;5;124m\"\u001b[39m\u001b[38;5;124mas it is likely to crash IPython. If you know what you are doing, \u001b[39m\u001b[38;5;124m\"\u001b[39m\n\u001b[0;32m    321\u001b[0m         \u001b[38;5;124m\"\u001b[39m\u001b[38;5;124myou can use builtins\u001b[39m\u001b[38;5;124m'\u001b[39m\u001b[38;5;124m open.\u001b[39m\u001b[38;5;124m\"\u001b[39m\n\u001b[0;32m    322\u001b[0m     )\n\u001b[1;32m--> 324\u001b[0m \u001b[38;5;28;01mreturn\u001b[39;00m io_open(file, \u001b[38;5;241m*\u001b[39margs, \u001b[38;5;241m*\u001b[39m\u001b[38;5;241m*\u001b[39mkwargs)\n",
      "\u001b[1;31mFileNotFoundError\u001b[0m: [Errno 2] No such file or directory: 'html/texas_unemployment.html'"
     ]
    }
   ],
   "source": [
    "from IPython.display import display, HTML\n",
    "\n",
    "# Read the HTML file content\n",
    "with open(\"html/texas_unemployment.html\", \"r\") as file:\n",
    "    html_content = file.read()\n",
    "\n",
    "display(HTML(html_content))\n",
    "\n"
   ]
  }
 ],
 "metadata": {
  "kernelspec": {
   "display_name": "base",
   "language": "python",
   "name": "python3"
  },
  "language_info": {
   "codemirror_mode": {
    "name": "ipython",
    "version": 3
   },
   "file_extension": ".py",
   "mimetype": "text/x-python",
   "name": "python",
   "nbconvert_exporter": "python",
   "pygments_lexer": "ipython3",
   "version": "3.12.7"
  }
 },
 "nbformat": 4,
 "nbformat_minor": 5
}
