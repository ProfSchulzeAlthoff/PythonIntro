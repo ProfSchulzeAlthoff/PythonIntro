{
 "cells": [
  {
   "cell_type": "markdown",
   "id": "5a48c18d-c327-4878-9782-79f2a6d0299d",
   "metadata": {},
   "source": [
    "# Turtle Modul\n",
    "Mit dem Modul 'Turtle' können Sie mit Python einfache Grafiken erstellen\n",
    "\n",
    "[https://docs.python.org/3/library/turtle.html](https://docs.python.org/3/library/turtle.html) "
   ]
  },
  {
   "cell_type": "code",
   "execution_count": 1,
   "id": "5a2e133e-36c7-49a6-a8ac-9045ebc04371",
   "metadata": {},
   "outputs": [],
   "source": [
    "import turtle as t"
   ]
  },
  {
   "cell_type": "markdown",
   "id": "6c23948e-1da6-4645-b70c-384f7ce456e9",
   "metadata": {},
   "source": [
    "## Screen\n",
    "Der Screen ist das Leinwand-Element, also der Grund auf dem gemalt wird. \n",
    "\n",
    "[https://docs.python.org/3/library/turtle.html#turtle.Screen](https://docs.python.org/3/library/turtle.html#turtle.Screen)"
   ]
  },
  {
   "cell_type": "code",
   "execution_count": 2,
   "id": "43b172f2-c1ef-418d-9e93-70fa8e559660",
   "metadata": {},
   "outputs": [],
   "source": [
    "scr = t.Screen()"
   ]
  },
  {
   "cell_type": "markdown",
   "id": "fb93cbc3-ed91-4a45-aa3f-f3510d41a2f1",
   "metadata": {},
   "source": [
    "Die Canvas kann über ihre Methoden angepasst werden. \n",
    "\n",
    "Z.B. die Größe und der Startpunkt [https://docs.python.org/3/library/turtle.html#turtle.setup](https://docs.python.org/3/library/turtle.html#turtle.setup)\n",
    "\n",
    "oder die Farbe [https://docs.python.org/3/library/turtle.html#turtle.bgcolor](https://docs.python.org/3/library/turtle.html#turtle.bgcolor) "
   ]
  },
  {
   "cell_type": "code",
   "execution_count": 3,
   "id": "c540b298-0831-4822-beab-6d5b1fbd7aba",
   "metadata": {},
   "outputs": [],
   "source": [
    "scr.setup (width=600, height=400, startx=300, starty=200)\n",
    "scr.bgcolor(\"black\")\n",
    "scr.title(\"Malen mit Turtle\")"
   ]
  },
  {
   "cell_type": "markdown",
   "id": "fba2d4b3-f6fd-4123-bdb2-bcac0af51991",
   "metadata": {},
   "source": [
    "## Turtle\n",
    "\n",
    "Auf dem Screen können jetzt **Schildkröten** ([https://docs.python.org/3/library/turtle.html#turtle.Turtle](https://docs.python.org/3/library/turtle.html#turtle.Turtle)) herumlaufen und eine Spur hinterlassen.\n",
    "\n",
    "Es gibt eine Reihe von Methoden für die Turtles, mit denen sich die Darstellungsform der Schildkröten, die Strichfarben, die Bewegungen etc. steuern lassen.\n",
    "\n"
   ]
  },
  {
   "cell_type": "code",
   "execution_count": 4,
   "id": "cd1f5e5e-c3a8-40c6-b65a-20cd6822d080",
   "metadata": {},
   "outputs": [],
   "source": [
    "donatello = t.Turtle()\n",
    "donatello.pencolor(\"red\")\n",
    "donatello.shape(\"turtle\")\n",
    "for i in range(4):\n",
    "    donatello.forward(100)\n",
    "    donatello.right(90)\n",
    "    donatello.stamp()"
   ]
  },
  {
   "cell_type": "code",
   "execution_count": 5,
   "id": "adcf98fa-39e5-4119-878a-77ffaef8907a",
   "metadata": {},
   "outputs": [],
   "source": [
    "leonardo = t.Turtle()\n",
    "leonardo.pencolor(\"blue\")\n",
    "leonardo.fillcolor(\"blue\")\n",
    "leonardo.shape(\"turtle\")\n",
    "leonardo.penup()\n",
    "leonardo.backward(200)\n",
    "leonardo.pendown()\n",
    "leonardo.begin_fill()\n",
    "leonardo.circle(75)\n",
    "leonardo.end_fill()"
   ]
  },
  {
   "cell_type": "markdown",
   "id": "ac248a49-ce86-4a52-9206-88a49c0d5f8c",
   "metadata": {},
   "source": [
    "Um den Screen zu schliessen können Sie exitonclick verwenden\n"
   ]
  },
  {
   "cell_type": "code",
   "execution_count": 6,
   "id": "d6c02dfd-be41-423c-ad23-71d49faf2545",
   "metadata": {},
   "outputs": [],
   "source": [
    "scr.exitonclick()"
   ]
  }
 ],
 "metadata": {
  "kernelspec": {
   "display_name": "base",
   "language": "python",
   "name": "python3"
  },
  "language_info": {
   "codemirror_mode": {
    "name": "ipython",
    "version": 3
   },
   "file_extension": ".py",
   "mimetype": "text/x-python",
   "name": "python",
   "nbconvert_exporter": "python",
   "pygments_lexer": "ipython3",
   "version": "3.12.7"
  }
 },
 "nbformat": 4,
 "nbformat_minor": 5
}
