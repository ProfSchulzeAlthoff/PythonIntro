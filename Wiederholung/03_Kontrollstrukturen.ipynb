{
 "cells": [
  {
   "cell_type": "markdown",
   "id": "1c2073cd-a122-4327-b5fb-c9c9f42e1fa4",
   "metadata": {},
   "source": [
    "# Kontrollstrukturen"
   ]
  },
  {
   "cell_type": "code",
   "execution_count": null,
   "id": "27989e86-7231-4397-b95b-930ae2f8f246",
   "metadata": {},
   "outputs": [],
   "source": [
    "# if ... elif ... else\n",
    "\n",
    "# Codeblock A\n",
    "a = 10\n",
    "b = input(\"Gebe den Wert für b ein: \")\n",
    "if a == b:\n",
    "    print(\"ist gleich\")\n",
    "elif a>b:\n",
    "    print(f\"{b} ist kleiner als {a}\")\n",
    "else:\n",
    "    print(f\"{b} ist größer als {a}\")\n",
    "\n",
    "# Codeblock B\n",
    "print('a=b' if a==b else 'a ungleich b')                  # recht beliebt bei dualen Entscheidungen\n",
    "print('a=b' if a==b else 'a<b' if a<b else 'a>b')         # das wird etwas unübersichtlich\n",
    "\n",
    "# Korrigieren Sie Codeblock A\n",
    "# Betrachten Sie auch die verkürzte Notation in Codeblock B"
   ]
  },
  {
   "cell_type": "code",
   "execution_count": null,
   "id": "3b02caba-cefc-4378-8500-664a521033ec",
   "metadata": {},
   "outputs": [],
   "source": [
    "# while ... \n",
    "\n",
    "# Codeblock A\n",
    "a = 1\n",
    "b = 2\n",
    "while a<100:\n",
    "    i += 1\n",
    "    c = a + b\n",
    "    a = b\n",
    "    b = c\n",
    "    print(f\"a: {a} & b: {b}\")\n",
    "\n",
    "# Codeblock B\n",
    "while True:\n",
    "    wort = input(\"Bitte geben Sie Buchstaben ein und schliessen Sie mit 'Return' ab.\")\n",
    "    if (wort == \"STOP\"):\n",
    "        break\n",
    "    if (len(wort) > 10):\n",
    "        print (\"Das sind aber viele Buchstaben\")\n",
    "        continue\n",
    "    print (wort)\n",
    "print (\"Programm beendet\")\n",
    "\n",
    "# Passen Sie die Schleife in Codeblock A so an, dass exakt 100 Ausgaben von a und b erfolgen (dann endet die Schleife mit der Ausgabe - a: 927372692193078999176 & b: 1500520536206896083277)\n",
    "#"
   ]
  },
  {
   "cell_type": "code",
   "execution_count": 45,
   "id": "f0578ba0-97ae-4a1c-b7ad-2c4ea04bfc8c",
   "metadata": {},
   "outputs": [
    {
     "name": "stdout",
     "output_type": "stream",
     "text": [
      "8\n",
      "8\n",
      "2\n",
      "1\n",
      "4\n",
      "7\n",
      "1\n",
      "2\n",
      "4\n",
      "8\n",
      "fertig\n",
      "1, 2, 3, 4, 5, 6, 7, 8, 9, 10\n",
      "2, 4, 6, 8, 10, 12, 14, 16, 18, 20\n",
      "3, 6, 9, 12, 15, 18, 21, 24, 27, 30\n",
      "4, 8, 12, 16, 20, 24, 28, 32, 36, 40\n",
      "5, 10, 15, 20, 25, 30, 35, 40, 45, 50\n",
      "6, 12, 18, 24, 30, 36, 42, 48, 54, 60\n",
      "7, 14, 21, 28, 35, 42, 49, 56, 63, 70\n",
      "8, 16, 24, 32, 40, 48, 56, 64, 72, 80\n",
      "9, 18, 27, 36, 45, 54, 63, 72, 81, 90\n",
      "10, 20, 30, 40, 50, 60, 70, 80, 90, 100\n"
     ]
    }
   ],
   "source": [
    "# for\n",
    "\n",
    "# Codeblock A\n",
    "values = (8,3,6,8,2,1,4,7,1,2,9,4,8)\n",
    "for z in values:\n",
    "    if z%3 == 0:\n",
    "        continue\n",
    "    print (z)\n",
    "print (\"fertig\")\n",
    "\n",
    "# Codeblock B\n",
    "for a in range(1,11):\n",
    "    for b in range (1,10):\n",
    "        print (a*b,end=\", \")\n",
    "    print (a*10)\n",
    "\n",
    "# Modifizieren Sie Codeblock A so, dass nur die Werte der Liste angezeigt werden, die durch 3 teilbar sind.\n",
    "# Analysiseren Sie die geschachtelten Schleifen in Codeblock B und untersuchen Sie auch die beiden print Statements."
   ]
  },
  {
   "cell_type": "code",
   "execution_count": null,
   "id": "54d2b80c-b040-43d3-8b3c-e24cd7d99496",
   "metadata": {},
   "outputs": [],
   "source": []
  }
 ],
 "metadata": {
  "kernelspec": {
   "display_name": "Python [conda env:base] *",
   "language": "python",
   "name": "conda-base-py"
  },
  "language_info": {
   "codemirror_mode": {
    "name": "ipython",
    "version": 3
   },
   "file_extension": ".py",
   "mimetype": "text/x-python",
   "name": "python",
   "nbconvert_exporter": "python",
   "pygments_lexer": "ipython3",
   "version": "3.12.7"
  }
 },
 "nbformat": 4,
 "nbformat_minor": 5
}
