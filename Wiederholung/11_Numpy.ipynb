{
 "cells": [
  {
   "cell_type": "markdown",
   "metadata": {},
   "source": [
    "# NumPy\n",
    "[NumPy](https://numpy.org/) ist eine Bibliothek zur Verarbeitung und Berechnung von grossen Vektoren, Arrays, ...\n",
    "\n",
    "Numpy basiert auf Arrays von Zellen gleichen Typs (!). Sie werden in reservierten Bereichen im Arbeitsspeicher gehalten und sind sehr schnell. Die meisten Operatoren können unmittelbar auf die einzelnen Zellen angewendet werden, ohne dass per loop durch diese iteriert werden muss. \n",
    "\n",
    "Bei den meisten Operationen werden keine Datenkopien gezogen, sondern unmittelbar in den Speicherzellen gearbeitet. D.h. es muss besonders auf Nebeneffekte bei der datenmanipulation geachtet werden."
   ]
  },
  {
   "cell_type": "code",
   "execution_count": 1,
   "metadata": {},
   "outputs": [],
   "source": [
    "# Ein einfaches Numpy Beispiel - 1 Mio. Multiplikationen als Numpy.Array und als Liste \n",
    "import numpy as np\n",
    "import time\n",
    "\n",
    "my_arr = np.arange(1000000)\n",
    "my_list = list(range(1000000))"
   ]
  },
  {
   "cell_type": "code",
   "execution_count": 2,
   "metadata": {},
   "outputs": [
    {
     "name": "stdout",
     "output_type": "stream",
     "text": [
      "List Iteration-Multiplikation: 135.93339920043945 ms\n"
     ]
    }
   ],
   "source": [
    "# Listen Multiplikation als Iteration\n",
    "start = time.time()\n",
    "my_list2 =[]\n",
    "for x in my_list:\n",
    "    my_list2.append(x*2)\n",
    "end = time.time()\n",
    "print (f\"List Iteration-Multiplikation: {(end-start)*1000} ms\")"
   ]
  },
  {
   "cell_type": "code",
   "execution_count": 3,
   "metadata": {},
   "outputs": [
    {
     "name": "stdout",
     "output_type": "stream",
     "text": [
      "Numpy Multiplikation: 2.9363632202148438 ms\n"
     ]
    }
   ],
   "source": [
    "# Numpy Multiplikation ohne Iteration (Vektorisieren)\n",
    "start = time.time()\n",
    "my_arr2 = my_arr*2\n",
    "end = time.time()\n",
    "print (f\"Numpy Multiplikation: {(end-start)*1000} ms\")"
   ]
  },
  {
   "cell_type": "markdown",
   "metadata": {},
   "source": [
    "## NumPy Arrays\n",
    "Arrays sind die zentralen Elemente für NumPy. Ein Array kann beliebig viele Dimensionen haben und die Zellen müssen den gleichen Datentyp aufweisen.\n",
    "\n",
    "[NumPy Datentypen](https://numpy.org/devdocs/user/basics.types.html) orientieren sich an den C Datentypen un unterscheiden sich daher von den Python Typen:\n",
    "- np.bool_\n",
    "- np.int32\n",
    "- np.int64\n",
    "- np.float64\n",
    "- ...\n",
    "\n",
    "Effizient ist besonders die Initiierung eines Arrays in der kompletten Grösse, da dann der Speicherbereich entsprechend reserviert wird (ein Append ist aber trotzdem möglich)."
   ]
  },
  {
   "cell_type": "code",
   "execution_count": 4,
   "metadata": {},
   "outputs": [
    {
     "name": "stdout",
     "output_type": "stream",
     "text": [
      "[8 5 9 4 2]\n",
      "Dimension: 1\n",
      "Shape: (5,)\n",
      "Dataype: int32\n"
     ]
    }
   ],
   "source": [
    "# Casten aus iterierbaren Datentypen\n",
    "data_x = [8, 5, 9, 4, 2]\n",
    "data_arr_x = np.array(data_x)\n",
    "print(data_arr_x)\n",
    "print (f\"Dimension: {data_arr_x.ndim}\")\n",
    "print (f\"Shape: {data_arr_x.shape}\")\n",
    "print (f\"Dataype: {data_arr_x.dtype}\")"
   ]
  },
  {
   "cell_type": "code",
   "execution_count": 5,
   "metadata": {},
   "outputs": [
    {
     "name": "stdout",
     "output_type": "stream",
     "text": [
      "[[8 9 3]\n",
      " [5 3 4]\n",
      " [9 2 8]\n",
      " [4 8 1]\n",
      " [2 1 1]]\n",
      "Dimension: 2\n",
      "Shape: (5, 3)\n",
      "Datatype: int32\n"
     ]
    }
   ],
   "source": [
    "# auch mit mehreren Dimensionen möglich\n",
    "data_x, data_y, data_z = [8, 5, 9, 4, 2], [9, 3, 2, 8, 1], [3, 4, 8, 1, 1]\n",
    "data_xyz = tuple(zip(data_x, data_y, data_z))\n",
    "data_arr_xyz = np.array(data_xyz)\n",
    "print(data_arr_xyz)\n",
    "print (f\"Dimension: {data_arr_xyz.ndim}\")\n",
    "print (f\"Shape: {data_arr_xyz.shape}\")\n",
    "print (f\"Datatype: {data_arr_xyz.dtype}\")"
   ]
  },
  {
   "cell_type": "code",
   "execution_count": 6,
   "metadata": {},
   "outputs": [
    {
     "name": "stdout",
     "output_type": "stream",
     "text": [
      "[[[8.3 9.4 3.2]\n",
      "  [8.  9.  3. ]]\n",
      "\n",
      " [[6.2 4.3 4. ]\n",
      "  [5.  3.  4. ]]\n",
      "\n",
      " [[7.6 4.1 3.2]\n",
      "  [9.  2.  8. ]]\n",
      "\n",
      " [[8.4 5.2 2.1]\n",
      "  [4.  8.  1. ]]\n",
      "\n",
      " [[7.1 0.6 2.3]\n",
      "  [2.  1.  1. ]]]\n",
      "Dimension: 3\n",
      "Shape: (5, 2, 3)\n",
      "Datatype: float64\n"
     ]
    }
   ],
   "source": [
    "# ... und auch mit anderen Datentypen\n",
    "data_xyz_time = list(zip(((8.3,9.4,3.2),(6.2,4.3,4.0), (7.6,4.1,3.2), (8.4,5.2,2.1), (7.1,0.6,2.3)), data_xyz))\n",
    "data_arr_xyz_time = np.array(data_xyz_time)\n",
    "print(data_arr_xyz_time)\n",
    "print (f\"Dimension: {data_arr_xyz_time.ndim}\")\n",
    "print (f\"Shape: {data_arr_xyz_time.shape}\")\n",
    "print (f\"Datatype: {data_arr_xyz_time.dtype}\")"
   ]
  },
  {
   "cell_type": "code",
   "execution_count": 7,
   "metadata": {},
   "outputs": [
    {
     "name": "stdout",
     "output_type": "stream",
     "text": [
      "leer: [[[6.23042070e-307 4.67296746e-307 1.69121096e-306]\n",
      "  [1.06810268e-306 7.56587585e-307 1.37961302e-306]\n",
      "  [1.05699242e-307 8.01097889e-307 1.78020169e-306]]\n",
      "\n",
      " [[7.56601165e-307 1.02359984e-306 1.33510679e-306]\n",
      "  [2.22522597e-306 1.78019761e-306 1.11260144e-306]\n",
      "  [6.89812281e-307 2.22522596e-306 9.34603679e-307]]]\n",
      "zeros: [0. 0. 0. 0. 0.]\n",
      "defaults: [[5 5]\n",
      " [5 5]\n",
      " [5 5]]\n",
      "Zufallszahlen: [[[0.64560558 0.68137967]\n",
      "  [0.43487254 0.50217978]]\n",
      "\n",
      " [[0.28361541 0.35032687]\n",
      "  [0.7372486  0.76824612]]]\n"
     ]
    }
   ],
   "source": [
    "# Weitere Erzeugungsarten:\n",
    "# leeres Array (Speicher reserviert ohne Wertzuweisung): \n",
    "leer = np.empty((2,3,3))\n",
    "print (f\"leer: {leer}\")\n",
    "# Nuller-Array:\n",
    "zeros = np.zeros((5))\n",
    "print (f\"zeros: {zeros}\")\n",
    "# Default Belegung\n",
    "defaults = np.full((3,2), 5)\n",
    "print (f\"defaults: {defaults}\")\n",
    "# Zufalls Array\n",
    "rand = np.random.rand(2,2,2)\n",
    "print (f\"Zufallszahlen: {rand}\")\n"
   ]
  },
  {
   "cell_type": "markdown",
   "metadata": {},
   "source": [
    "## Operatoren\n",
    "Eine besondere Stärke von NumPy liegt in der Anwendung von Operatoren auf jedes (oder ausgewählte) Elemente eines Arrays **ohne** Iteratoren. Diese Eigenschaft wird *Vektorisierung* genannt (im Hintergrund läuft eine viel schnellere C Schleife).\n",
    "- Skalare Operatoren (einfache Rechenoperationen für jedes Element)\n",
    "- unäre Operatoren\n",
    "- binäre Operatoren "
   ]
  },
  {
   "cell_type": "code",
   "execution_count": 8,
   "metadata": {},
   "outputs": [
    {
     "name": "stdout",
     "output_type": "stream",
     "text": [
      "old numpy array: [8 5 9 4 2]\n",
      "new numpy array: [24 15 27 12  6]\n"
     ]
    }
   ],
   "source": [
    "# Skalare Operationen\n",
    "new_x = data_arr_x *3\n",
    "print (f\"old numpy array: {data_arr_x}\")\n",
    "print (f\"new numpy array: {new_x}\")"
   ]
  },
  {
   "cell_type": "code",
   "execution_count": 9,
   "metadata": {},
   "outputs": [
    {
     "name": "stdout",
     "output_type": "stream",
     "text": [
      "Unäre Operatoren\n",
      "Square:  [576 225 729 144  36]\n",
      "Squareroot:  [4.89897949 3.87298335 5.19615242 3.46410162 2.44948974]\n",
      "Floor von Sqrt: [4. 3. 5. 3. 2.]\n",
      "Sinus:  [-0.90557836  0.65028784  0.95637593 -0.53657292 -0.2794155 ]\n",
      "...\n",
      "Eigene unäre Funktionen\n",
      "Eine unäre Funktion: [25 16 28 13  7]\n",
      "Eine Lambda Funktion:  [575 224 728 143  35]\n",
      "...\n",
      "Binäre Operatoren\n",
      "Add:  [32 20 36 16  8]\n",
      "Maximum: [24 15 27 12  6]\n",
      "Greater Equal: [ True  True  True  True  True]\n",
      "Less: [False False False False False]\n",
      "XOR: [ True  True  True  True  True]\n",
      "...\n",
      "Eine binäre Funktion: [31 19 35 15  7]\n",
      "Eine Lambda Funktion:  [31 19 35 15  7]\n",
      "...\n"
     ]
    }
   ],
   "source": [
    "# unäre operatoren\n",
    "print (\"Unäre Operatoren\")\n",
    "print (f\"Square:  {np.square(new_x)}\")\n",
    "print (f\"Squareroot:  {np.sqrt(new_x)}\")\n",
    "print (f\"Floor von Sqrt: {np.floor(np.sqrt(new_x))}\")\n",
    "print (f\"Sinus:  {np.sin(new_x)}\")\n",
    "print (\"...\")\n",
    "\n",
    "# oder eigene Funktionen\n",
    "print (\"Eigene unäre Funktionen\")\n",
    "def eins_plus (x):\n",
    "    return x+1\n",
    "print (f\"Eine unäre Funktion: {eins_plus(new_x)}\")\n",
    "un_funk = lambda x:x**2-1\n",
    "print (f\"Eine Lambda Funktion:  {un_funk(new_x)}\")\n",
    "print(\"...\")\n",
    "\n",
    "# binäre operatoren\n",
    "print (\"Binäre Operatoren\")\n",
    "print (f\"Add:  {np.add(new_x, data_arr_x)}\")\n",
    "print (f\"Maximum: {np.maximum(new_x, data_arr_x)}\")\n",
    "print (f\"Greater Equal: {np.greater_equal(new_x, data_arr_x)}\")\n",
    "print (f\"Less: {np.less(new_x, data_arr_x)}\")\n",
    "print (f\"XOR: {np.logical_xor(np.less(new_x, data_arr_x),np.greater_equal(new_x, data_arr_x))}\")\n",
    "print (\"...\")\n",
    "\n",
    "def fast_a_plus_b (x,y):\n",
    "    return x+y-1\n",
    "print (f\"Eine binäre Funktion: {fast_a_plus_b(new_x, data_arr_x)}\")\n",
    "bi_funk = lambda x,y:x+y-1\n",
    "\n",
    "print (f\"Eine Lambda Funktion:  {bi_funk(new_x, data_arr_x)}\")\n",
    "print(\"...\")"
   ]
  },
  {
   "cell_type": "markdown",
   "metadata": {},
   "source": [
    "## Slicing\n",
    "Slicing Operatoren sind analog zu normalen iterierbaren Datentypen. Es wird aber stets nur eine **Referenz** auf die originären Daten zurückgeliefert! Möchten Sie die Slicing Daten weiterverarbeiten ohne die Originaldaten zu verändern, müssen Sie eine Kopie erstellen (*array.copy()*)."
   ]
  },
  {
   "cell_type": "code",
   "execution_count": 11,
   "metadata": {},
   "outputs": [
    {
     "name": "stdout",
     "output_type": "stream",
     "text": [
      "Ursprungsdaten: [24 45 27 36  6]\n",
      "Beliebiges Slicing : [36 45]\n",
      "Ändern des Ergebnisses : [108 135]\n",
      "Achtung: Geänderte Ursprungsdaten: [ 24 135  27 108   6]\n",
      "Kopierte Elemente : [108 135]\n",
      "Geänderte Ergebnisse im Copy Array : [216 270]\n",
      "Unveränderte Ursprungsdaten: [ 24 135  27 108   6]\n"
     ]
    }
   ],
   "source": [
    "# Slicing 1-D\n",
    "print (f\"Ursprungsdaten: {new_x}\")\n",
    "element = new_x[-2:-5:-2]\n",
    "print (f\"Beliebiges Slicing : {element}\")\n",
    "element *=3\n",
    "print (f\"Ändern des Ergebnisses : {element}\")\n",
    "print (f\"Achtung: Geänderte Ursprungsdaten: {new_x}\")\n",
    "\n",
    "# Alternative mit Copy\n",
    "element_copy = new_x[-2:-5:-2].copy()\n",
    "print (f\"Kopierte Elemente : {element_copy}\")\n",
    "element_copy *=2\n",
    "print (f\"Geänderte Ergebnisse im Copy Array : {element_copy}\")\n",
    "print (f\"Unveränderte Ursprungsdaten: {new_x}\")"
   ]
  },
  {
   "cell_type": "code",
   "execution_count": 12,
   "metadata": {},
   "outputs": [
    {
     "name": "stdout",
     "output_type": "stream",
     "text": [
      "Ursprungsarray: [[[8.3 9.4 3.2]\n",
      "  [8.  9.  3. ]]\n",
      "\n",
      " [[6.2 4.3 4. ]\n",
      "  [5.  3.  4. ]]\n",
      "\n",
      " [[7.6 4.1 3.2]\n",
      "  [9.  2.  8. ]]\n",
      "\n",
      " [[8.4 5.2 2.1]\n",
      "  [4.  8.  1. ]]\n",
      "\n",
      " [[7.1 0.6 2.3]\n",
      "  [2.  1.  1. ]]]\n",
      "Einzelnes Element: \n",
      " [[6.2 4.3 4. ]\n",
      " [5.  3.  4. ]]\n",
      "Mehrere Elemente: \n",
      " [[[8.3 9.4 3.2]\n",
      "  [8.  9.  3. ]]\n",
      "\n",
      " [[7.6 4.1 3.2]\n",
      "  [9.  2.  8. ]]]\n"
     ]
    }
   ],
   "source": [
    "# Slicing Mehrdimensional\n",
    "# Auswahl von Elementen entlang der ersten Dimension\n",
    "print (f\"Ursprungsarray: {data_arr_xyz_time}\")\n",
    "print (f\"Einzelnes Element: \\n {data_arr_xyz_time[1]}\")\n",
    "print (f\"Mehrere Elemente: \\n {data_arr_xyz_time[0:3:2]}\")  "
   ]
  },
  {
   "cell_type": "code",
   "execution_count": 13,
   "metadata": {},
   "outputs": [
    {
     "name": "stdout",
     "output_type": "stream",
     "text": [
      "Ursprungsarray: [[[8.3 9.4 3.2]\n",
      "  [8.  9.  3. ]]\n",
      "\n",
      " [[6.2 4.3 4. ]\n",
      "  [5.  3.  4. ]]\n",
      "\n",
      " [[7.6 4.1 3.2]\n",
      "  [9.  2.  8. ]]\n",
      "\n",
      " [[8.4 5.2 2.1]\n",
      "  [4.  8.  1. ]]\n",
      "\n",
      " [[7.1 0.6 2.3]\n",
      "  [2.  1.  1. ]]]\n",
      "Einzelnes Element: \n",
      " [[8. 9. 3.]\n",
      " [5. 3. 4.]\n",
      " [9. 2. 8.]\n",
      " [4. 8. 1.]\n",
      " [2. 1. 1.]]\n",
      "Mehrere Elemente: \n",
      " [[[8.3 9.4 3.2]]\n",
      "\n",
      " [[6.2 4.3 4. ]]\n",
      "\n",
      " [[7.6 4.1 3.2]]\n",
      "\n",
      " [[8.4 5.2 2.1]]\n",
      "\n",
      " [[7.1 0.6 2.3]]]\n"
     ]
    }
   ],
   "source": [
    "#Auswahl von Elementen entlang der zweiten Dimension\n",
    "print (f\"Ursprungsarray: {data_arr_xyz_time}\")\n",
    "print (f\"Einzelnes Element: \\n {data_arr_xyz_time[:,1]}\")\n",
    "print (f\"Mehrere Elemente: \\n {data_arr_xyz_time[:,0:1]}\")  "
   ]
  },
  {
   "cell_type": "code",
   "execution_count": null,
   "metadata": {},
   "outputs": [
    {
     "name": "stdout",
     "output_type": "stream",
     "text": [
      "Ursprungsarray: [[[8.3 9.4 3.2]\n",
      "  [8.  9.  3. ]]\n",
      "\n",
      " [[6.2 4.3 4. ]\n",
      "  [5.  3.  4. ]]\n",
      "\n",
      " [[7.6 4.1 3.2]\n",
      "  [9.  2.  8. ]]\n",
      "\n",
      " [[8.4 5.2 2.1]\n",
      "  [4.  8.  1. ]]\n",
      "\n",
      " [[7.1 0.6 2.3]\n",
      "  [2.  1.  1. ]]]\n",
      "Einzelnes Element ('Start-Ecke'): \n",
      " 8.3\n",
      "Einzelnes Element ('End-Ecke'): \n",
      " 1.0\n",
      "Mittleren Elemente: \n",
      " [[3.]\n",
      " [2.]\n",
      " [8.]]\n"
     ]
    }
   ],
   "source": [
    "#Auslesen in allen Dimensionen\n",
    "print (f\"Ursprungsarray: {data_arr_xyz_time}\")\n",
    "print (f\"Einzelnes Element ('Start-Ecke'): \\n {data_arr_xyz_time[0,0,0]}\")\n",
    "print (f\"Einzelnes Element ('End-Ecke'): \\n {data_arr_xyz_time[-1,-1,-1]}\")\n",
    "print (f\"Mittlere Elemente: \\n {data_arr_xyz_time[1:-1,1,1:-1]}\") "
   ]
  },
  {
   "cell_type": "markdown",
   "metadata": {},
   "source": [
    "## Sortieren und Mengenlehre\n",
    "NumPy erlaubt auch ein schnelles Soritieren der Arrays. Dabei muss natürlich angegeben werden, in welche \"Richtung\" sortiert wird. Das erfolgt mit Angabe der **axis**. Default ist (*axis=-1*), also entlang der letzten Dimension.\n",
    "\n",
    "Bei **eindimensionalen Arrays** sind Methoden analog zu **Sets** möglich; also z.B. Intersect (*np.intersect1d*), eindeutige Werte (*np.unique*)."
   ]
  },
  {
   "cell_type": "code",
   "execution_count": 15,
   "metadata": {},
   "outputs": [
    {
     "name": "stdout",
     "output_type": "stream",
     "text": [
      "Würfel 1: [4 3 2 1 3 3 5 5 5 1]\n",
      "Sort:     [1 1 2 3 3 3 4 5 5 5]\n"
     ]
    }
   ],
   "source": [
    "# eindimensionales sortieren\n",
    "wuerfel1 = np.random.randint(low=1, high=7, size=(10))\n",
    "print (f\"Würfel 1: {wuerfel1}\")\n",
    "sorted = np.sort(wuerfel1)\n",
    "print (f\"Sort:     {sorted}\")"
   ]
  },
  {
   "cell_type": "code",
   "execution_count": 17,
   "metadata": {},
   "outputs": [
    {
     "name": "stdout",
     "output_type": "stream",
     "text": [
      "Kniffel Würfe: [[6 3 2 5 4 1]\n",
      " [6 6 1 2 4 2]\n",
      " [5 1 4 2 4 2]]\n",
      "Sortiert die Würfe: [[5 1 1 2 4 1]\n",
      " [6 3 2 2 4 2]\n",
      " [6 6 4 5 4 2]]\n",
      "Sortiert innerhalb der Würfe: [[1 2 3 4 5 6]\n",
      " [1 2 2 4 6 6]\n",
      " [1 2 2 4 4 5]]\n",
      "Elementweise: [1 1 1 2 2 2 2 2 3 4 4 4 4 5 5 6 6 6]\n"
     ]
    }
   ],
   "source": [
    "# Mehrdimensionales Sortieren\n",
    "kniffel_wuerfe = np.random.randint(low=1, high=7, size=(3, 6))\n",
    "print(f\"Kniffel Würfe: {kniffel_wuerfe}\")\n",
    "sorted_0 = np.sort(kniffel_wuerfe,axis=0)\n",
    "print(f\"Sortiert die Würfe: {sorted_0}\")\n",
    "sorted_1 = np.sort(kniffel_wuerfe,axis=-1)\n",
    "print(f\"Sortiert innerhalb der Würfe: {sorted_1}\")\n",
    "sorted_none = np.sort(kniffel_wuerfe,axis=None)\n",
    "print(f\"Elementweise: {sorted_none}\")"
   ]
  },
  {
   "cell_type": "code",
   "execution_count": 18,
   "metadata": {},
   "outputs": [
    {
     "name": "stdout",
     "output_type": "stream",
     "text": [
      "Eindeutige Werte: [1 2 3 4 5 6]\n",
      "Wurf 0: [6 3 2 5 4 1]\n",
      "Wurf 1: [6 6 1 2 4 2]\n",
      "Zahlen in beiden Würfen: [1 2 4 6]\n"
     ]
    }
   ],
   "source": [
    "# Setähnliche Operatoren für eindimensionale Arrays\n",
    "# Auslesen der eindeutigen Werte\n",
    "eindeutig = np.unique(sorted_none)\n",
    "print(f\"Eindeutige Werte: {eindeutig}\")\n",
    "\n",
    "#intersect\n",
    "intersect = np.intersect1d(kniffel_wuerfe[0], kniffel_wuerfe[1])\n",
    "print(f\"Wurf 0: {kniffel_wuerfe[0]}\")\n",
    "print(f\"Wurf 1: {kniffel_wuerfe[1]}\")\n",
    "print(f\"Zahlen in beiden Würfen: {intersect}\")\n"
   ]
  },
  {
   "cell_type": "markdown",
   "metadata": {},
   "source": [
    "## Vergleiche und Boolsches Indizieren\n",
    "Neben dem Slicing können auch mit Hilfe eines **boolschen Arrays** Elemente ausgewählt werden. Dabei wird neben den Datenarray auch ein 'Boolsches Array' mit gleicher Grösse verwendet. Alles Elemente, die ein entsprechendes 'True' Element tragen werden selektiert und zurückgegeben.\n",
    "\n",
    "Zur Erzeugung eines solchen Arrays eignen sich Vergleichsoperatoren wie '==' oder < und >."
   ]
  },
  {
   "cell_type": "code",
   "execution_count": 19,
   "metadata": {},
   "outputs": [
    {
     "name": "stdout",
     "output_type": "stream",
     "text": [
      "Zufallszahlen: \n",
      " [[0.56813904 0.57982881 0.23709164 0.90595802 0.29375767 0.98875179\n",
      "  0.79185701 0.59798183 0.38841944 0.60560528]\n",
      " [0.69173193 0.82569785 0.83456377 0.62420551 0.80348928 0.70143399\n",
      "  0.40852298 0.3378554  0.94309847 0.48430378]\n",
      " [0.15889297 0.77636164 0.83481037 0.41092422 0.57128774 0.88498572\n",
      "  0.02051483 0.31876893 0.60961908 0.85811692]\n",
      " [0.89093601 0.07316966 0.36279112 0.3176254  0.96390162 0.57588553\n",
      "  0.57469387 0.66375699 0.37939433 0.52438583]\n",
      " [0.42096648 0.26217948 0.83951295 0.86781153 0.68378681 0.06797171\n",
      "  0.47719808 0.86642047 0.67153274 0.47981736]\n",
      " [0.25714668 0.12739747 0.90944661 0.96488557 0.92686506 0.59389655\n",
      "  0.0231925  0.46782314 0.7421477  0.26948307]\n",
      " [0.72972959 0.40979256 0.39084003 0.7555666  0.21980693 0.2168147\n",
      "  0.43599432 0.48493899 0.80326543 0.77464149]\n",
      " [0.55203082 0.20608382 0.61787352 0.69409485 0.59866408 0.9267859\n",
      "  0.81207104 0.97086929 0.15160607 0.80127212]\n",
      " [0.3291435  0.39421758 0.01231109 0.67796558 0.48457946 0.78041435\n",
      "  0.48453394 0.67229015 0.89407505 0.92542831]\n",
      " [0.81809832 0.04520215 0.89194076 0.06048679 0.45354037 0.40900041\n",
      "  0.47623667 0.55725808 0.10141214 0.96655211]]\n",
      "Stichprobenarray: \n",
      " [[False False False  True False False False  True False False]\n",
      " [False False False False False False False False  True False]\n",
      " [False False False False False False False False False False]\n",
      " [False False False False False False False False False False]\n",
      " [False False False False False False  True False False False]\n",
      " [False False  True False False False False False False False]\n",
      " [False  True False False False False False False False False]\n",
      " [False False False  True False False False False False False]\n",
      " [ True False False False False False False  True False False]\n",
      " [False False False False  True False False False False False]]\n",
      "Stichprobenwerte: \n",
      " [0.90595802 0.59798183 0.94309847 0.47719808 0.90944661 0.40979256\n",
      " 0.69409485 0.3291435  0.67229015 0.45354037]\n"
     ]
    }
   ],
   "source": [
    "import random\n",
    "# Random Array\n",
    "rand_array = np.random.rand(10,10)\n",
    "# Stichprobenraster\n",
    "select_array = np.zeros((10,10),dtype=bool)\n",
    "for i in range(10):\n",
    "    x, y = random.randint(0,9), random.randint(0,9)\n",
    "    select_array [x,y] = True\n",
    "print (f\"Zufallszahlen: \\n {rand_array}\")\n",
    "print (f\"Stichprobenarray: \\n {select_array}\")\n",
    "print (f\"Stichprobenwerte: \\n {rand_array[select_array]}\")"
   ]
  },
  {
   "cell_type": "code",
   "execution_count": null,
   "metadata": {},
   "outputs": [],
   "source": [
    "zahlenstrahl = np.arange(1000)\n",
    "dreierreihe = (zahlenstrahl%3==0)\n",
    "print (f\"Dreiherreihe: {zahlenstrahl[dreierreihe]}\")"
   ]
  },
  {
   "cell_type": "markdown",
   "metadata": {},
   "source": [
    "## Where\n",
    "Die where Funktion ermöglicht einfache logische Statements in Arrays (*np.where(Bedingung, Array/Skalar, Array/Skalar*). Jedes Element im Array wird auf eine Bedingung geprüft und dann wird der entsprechende 'Wahr' oder 'Falsch' Wert in das gleichdimensionierte Ergebnisarray eingetragen."
   ]
  },
  {
   "cell_type": "code",
   "execution_count": 20,
   "metadata": {},
   "outputs": [
    {
     "name": "stdout",
     "output_type": "stream",
     "text": [
      "Würfel1:      [6 3 1 1 2 2 6 2 6 5]\n",
      "Würfel2:      [5 1 3 1 6 5 1 4 3 1]\n",
      "Grösste Zahl: [6 3 3 1 6 5 6 4 6 5]\n"
     ]
    }
   ],
   "source": [
    "# Grösser - Kleiner\n",
    "wuerfel1, wuerfel2 = np.random.randint(low=1, high=7, size=(10)), np.random.randint(low=1, high=7, size=(10))\n",
    "\n",
    "grössteZahl = np.where(np.greater(wuerfel1,wuerfel2),wuerfel1,wuerfel2)\n",
    "print (f\"Würfel1:      {wuerfel1}\")\n",
    "print (f\"Würfel2:      {wuerfel2}\")\n",
    "print (f\"Grösste Zahl: {grössteZahl}\")"
   ]
  },
  {
   "cell_type": "markdown",
   "metadata": {},
   "source": [
    "## Strukturen bearbeiten\n",
    "Die **Reshape Methode** erlaubt eine sehr schnelle Umstrukturierung von Arrays. Es ist z.B. möglich ein flaches eindimensionales Array in Koordinatenlisten umzuwandeln. Dabei kann eine Dimensionsangabe mit **-1** belegt werden, d.h. diese Achse wird entsprechend gefüllt.\n",
    "\n",
    "Ein transponiertes Array lässt sich mit **T** erzeugen."
   ]
  },
  {
   "cell_type": "code",
   "execution_count": 21,
   "metadata": {},
   "outputs": [
    {
     "name": "stdout",
     "output_type": "stream",
     "text": [
      "Eindimensional original [ 381880.543 5710168.931  381881.146 5710167.188  381884.609 5710160.149\n",
      "  381968.945 5710196.188  382062.619 5710235.243]\n",
      "Koordinatenpaare: [[ 381880.543 5710168.931]\n",
      " [ 381881.146 5710167.188]\n",
      " [ 381884.609 5710160.149]\n",
      " [ 381968.945 5710196.188]\n",
      " [ 382062.619 5710235.243]]\n",
      "Transponiert: [[ 381880.543  381881.146  381884.609  381968.945  382062.619]\n",
      " [5710168.931 5710167.188 5710160.149 5710196.188 5710235.243]]\n"
     ]
    },
    {
     "data": {
      "text/plain": [
       "array([ 381880.543,  381881.146,  381884.609,  381968.945,  382062.619,\n",
       "       5710168.931, 5710167.188, 5710160.149, 5710196.188, 5710235.243])"
      ]
     },
     "execution_count": 21,
     "metadata": {},
     "output_type": "execute_result"
    }
   ],
   "source": [
    "# Reshape\n",
    "coord_flat = (381880.543000, 5710168.931000, 381881.146000, 5710167.188000, 381884.609000, 5710160.149000, 381968.945000, 5710196.188000, 382062.619000, 5710235.243000)\n",
    "original = np.array(coord_flat)\n",
    "print(f\"Eindimensional original {original}\")\n",
    "reshape = original.reshape(-1,2)\n",
    "print (f\"Koordinatenpaare: {reshape}\")\n",
    "transpose = reshape.T\n",
    "print (f\"Transponiert: {transpose}\")\n",
    "transpose.reshape(-1)"
   ]
  },
  {
   "cell_type": "markdown",
   "metadata": {},
   "source": [
    "## Aufgabe ##\n",
    "\n",
    "Lesen Sie die Datei 'bev_2018_2022_clean.csv' ein und beantworten Se mit Hilfe von Numpy Arrays folgende Fragen:\n",
    "- Wie hat sich die Gesamtbevölkerung in Deutschland entwickelt (-> Array von 2018 bis 2022)\n",
    "- Welcher Landkreis ist absolut - welcher relativ - am stärksten gewachsen (Vergleich 2022 - 2018).\n",
    "\n",
    "Hinweise:\n",
    "- Trennen Sie am besten einzelne Funktionen, um die Übersicht zu behalten (z.B. Datenlesen in Listen oder direkt Numpy Arrays; Ermitteln der Gesamtsummen; Ermitteln des absoluzen Maximalwerts, des relativen Maximalwerts)\n",
    "- Beim Einlesen der Daten können Fehler auftreten - leere Zeilen und '-' anstelle einer 0. Nutzen Sie ggf. try ... exception für den Umgang\n",
    "- Beachten Sie, dass Numpy nur einheitliche Datentypen in Arrays erlaubt - verwenden Sie ggf. 2 Arrays - für die Daten und für die Namen\n",
    "- Nutzen Sie auch die Numpy Dokumentation:\n",
    "    - [Array Erzeugung](https://numpy.org/doc/stable/reference/generated/numpy.array.html#numpy.array)\n",
    "    - [numpy.sum](https://numpy.org/doc/stable/reference/generated/numpy.sum.html)\n",
    "    \n"
   ]
  }
 ],
 "metadata": {
  "kernelspec": {
   "display_name": "base",
   "language": "python",
   "name": "python3"
  },
  "language_info": {
   "codemirror_mode": {
    "name": "ipython",
    "version": 3
   },
   "file_extension": ".py",
   "mimetype": "text/x-python",
   "name": "python",
   "nbconvert_exporter": "python",
   "pygments_lexer": "ipython3",
   "version": "3.12.7"
  }
 },
 "nbformat": 4,
 "nbformat_minor": 2
}
