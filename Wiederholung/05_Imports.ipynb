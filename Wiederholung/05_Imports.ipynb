{
 "cells": [
  {
   "cell_type": "markdown",
   "id": "09dedbbc-f12b-4db0-91ee-245bfc6b8718",
   "metadata": {},
   "source": [
    "# Imports und Module"
   ]
  },
  {
   "cell_type": "code",
   "execution_count": 1,
   "id": "0abdf30e-1a78-4f45-a274-51fdd71180f2",
   "metadata": {},
   "outputs": [],
   "source": [
    "# Beispiel für einfache Imports\n",
    "import turtle as t\n",
    "from math import sin, pi\n",
    "\n",
    "sc = t.Screen()\n",
    "sc.mode('world')\n",
    "t.setworldcoordinates(-pi,-1,pi,1)\n",
    "x =-pi\n",
    "t.penup()\n",
    "t.setposition(x, sin(x))\n",
    "t.pendown()\n",
    "while x<pi:\n",
    "    t.setposition(x, sin(x))\n",
    "    \n",
    "    x +=0.01\n",
    "t.exitonclick()"
   ]
  },
  {
   "cell_type": "code",
   "execution_count": null,
   "id": "4b713b18-0a0c-4d46-947d-74e9e70cf347",
   "metadata": {},
   "outputs": [],
   "source": []
  }
 ],
 "metadata": {
  "kernelspec": {
   "display_name": "base",
   "language": "python",
   "name": "python3"
  },
  "language_info": {
   "codemirror_mode": {
    "name": "ipython",
    "version": 3
   },
   "file_extension": ".py",
   "mimetype": "text/x-python",
   "name": "python",
   "nbconvert_exporter": "python",
   "pygments_lexer": "ipython3",
   "version": "3.12.7"
  }
 },
 "nbformat": 4,
 "nbformat_minor": 5
}
