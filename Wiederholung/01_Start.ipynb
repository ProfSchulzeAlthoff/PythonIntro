{
 "cells": [
  {
   "attachments": {},
   "cell_type": "markdown",
   "id": "bc5bfe0d-07b2-44ee-a48b-ddd4f3bad114",
   "metadata": {},
   "source": [
    "# Python Wiederholung/Schnelleinstieg #\n",
    "Für das Modul werden Python Grundkenntnisse vorausgesetzt. D.h. Sie sollten in der Lage sein, mit Editoren und Entwicklungsumgebungen einfachen Python Code zu schreiben.\n",
    "- Python Syntax und Einrückungen\n",
    "- Variablen & Datentypen\n",
    "- Sequentielle Datentypen String, Tuple und Listen inkl. Slicing Operatoren\n",
    "- Kontrollstrukturen if..elif..else, while, for in\n",
    "- Funktionen mit Funktionsnamen, Parametern und Rückgabewerten\n",
    "- Rekursive Funktionen\n",
    "- Imports mit Alias\n",
    "\n",
    "Die ersten Veranstaltungen werden daher in erster Linie auf Übungsblättern basieren, um eine gemeinsame Basis für die weiteren Einheiten zu haben. Bitte verwenden Sie auch externe Lernmaterialien; für Python stehen diese im Überfluss zur Verfügung:\n",
    "  \n",
    "## Python Webseite\n",
    "- [Python.org](https://www.python.org)\n",
    "- [Einstiegtutorial engl.](https://docs.python.org/3/tutorial/index.html)\n",
    "- [weitere Einstiegsunterlagen](https://wiki.python.org/moin/BeginnersGuide/NonProgrammers)\n",
    "- [Dokumentation der Sprache - Syntax und Schlüsselwörter](https://docs.python.org/3/reference/index.html)\n",
    "- [Dokumentation der Standardbibliothek](https://docs.python.org/3/library/index.html)\n",
    "\n",
    "## Literatur:\n",
    "*Die passende Literatur hängt von Ihrem Geschmack ab - ausführlicher oder knapper, mit Vergleichen zu anderen Sprachen, anwendungsorientiert, ... (alle Bücher sind Online über die Hochschulbibliothek zu nutzen/ggf. sogar downloadbar*\n",
    "*Ausführliche Einsteigerbücher*\n",
    "- [Heiko Kalista - Python 3 Einsteigen und Durchstarten](https://www.hanser-elibrary.com/doi/book/10.3139/9783446456891)\n",
    "- [Doberkat, Ernst-Erich - Trullo jagt die Üython: Eine elementare Einführung in die Programmierung mit Python](https://link.springer.com/10.1007/978-3-662-68843-4)\n",
    "\n",
    "*Etwas knapper*\n",
    "- [Michael Inden - Python lernen: kurz & gut](https://ebookcentral.proquest.com/lib/frankfurtmain/detail.action?docID=7244415)\n",
    "- [Knoll, Carsten; Heedt, Robert Python für Ingenieure - für Dummies](https://ebookcentral.proquest.com/lib/frankfurtmain/detail.action?docID=6727679)\n",
    "\n",
    "*Auch für Einsteiger, mit Fokus auf die unterschiedlichen Programmieransätze*\n",
    "- [Tobias Häberlein - Eine Einführung in die Prozedurale, Objektorientierte und Funktionale Programmierung](https://link.springer.com/book/10.1007/978-3-662-68678-2)\n",
    "\n",
    "## Kurse und Onlinequellen: \n",
    "*Online Kurse - z.T. mit Zertifikat*\n",
    "- [OpenHPI Kurs Python - kostenlos](https://open.hpi.de/courses/python2024)\n",
    "- [Havard University edx - kostenlos](https://learning.edx.org/course/course-v1:HarvardX+CS50P+Python/home)\n",
    "  \n",
    "*Kleine Beispiele mit Erklärungen selber ausprobieren*\n",
    "- [W3School Python](https://www.w3schools.com/python/)\n"
   ]
  },
  {
   "cell_type": "markdown",
   "id": "efe5431f-6cd4-4107-9122-20c860cbee6f",
   "metadata": {},
   "source": [
    "## ToDo:\n",
    "Bearbeiten Sie folgende Arbeitsblätter. Prüfen Sie Ihren Kenntnisstand und greifen Sie ggf. auf obige Literatur und Kurse zurück.\n",
    "* [Variablen und Datentypen](VariablenTypen.ipynb)\n",
    "* [Kontrollstrukturen](Kontrollstrukturen.iynb)\n",
    "* [Kompliziertere Aufgabe](Aufgabe_01.ipynb)"
   ]
  },
  {
   "cell_type": "code",
   "execution_count": null,
   "id": "f5ac89bc-2b49-4167-b7e4-099233f757b1",
   "metadata": {},
   "outputs": [],
   "source": []
  },
  {
   "cell_type": "code",
   "execution_count": null,
   "id": "b32bcc5e-8647-44b0-879f-fd3f7902f498",
   "metadata": {},
   "outputs": [],
   "source": []
  }
 ],
 "metadata": {
  "kernelspec": {
   "display_name": "Python [conda env:base] *",
   "language": "python",
   "name": "conda-base-py"
  },
  "language_info": {
   "codemirror_mode": {
    "name": "ipython",
    "version": 3
   },
   "file_extension": ".py",
   "mimetype": "text/x-python",
   "name": "python",
   "nbconvert_exporter": "python",
   "pygments_lexer": "ipython3",
   "version": "3.12.7"
  }
 },
 "nbformat": 4,
 "nbformat_minor": 5
}
