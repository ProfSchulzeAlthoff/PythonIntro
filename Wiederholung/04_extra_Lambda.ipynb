{
 "cells": [
  {
   "cell_type": "markdown",
   "id": "dd33e8a5-a17c-4e51-9a6f-9e5f9d5ba85d",
   "metadata": {},
   "source": [
    "# Lambda etc."
   ]
  },
  {
   "cell_type": "code",
   "execution_count": null,
   "id": "fa919930-cf0f-49b8-88ea-2af0b59ee34b",
   "metadata": {},
   "outputs": [],
   "source": []
  }
 ],
 "metadata": {
  "kernelspec": {
   "display_name": "Python [conda env:base] *",
   "language": "python",
   "name": "conda-base-py"
  },
  "language_info": {
   "codemirror_mode": {
    "name": "ipython",
    "version": 3
   },
   "file_extension": ".py",
   "mimetype": "text/x-python",
   "name": "python",
   "nbconvert_exporter": "python",
   "pygments_lexer": "ipython3",
   "version": "3.12.7"
  }
 },
 "nbformat": 4,
 "nbformat_minor": 5
}
