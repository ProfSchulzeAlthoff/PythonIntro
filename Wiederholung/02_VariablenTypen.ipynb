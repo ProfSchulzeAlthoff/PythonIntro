{
 "cells": [
  {
   "cell_type": "markdown",
   "id": "b2f6278f-840b-4ede-a083-8e5e10e1103d",
   "metadata": {},
   "source": [
    "# Variablen und Datentypen\n",
    "Kenntnisse über Variablenzuweisung, einfache Datentypen, Typumwandlungen"
   ]
  },
  {
   "cell_type": "markdown",
   "id": "c656d6c4-ed1f-4d43-b8a2-8e42049d2b6a",
   "metadata": {},
   "source": [
    "## Numerische Datentypen"
   ]
  },
  {
   "cell_type": "code",
   "execution_count": 15,
   "id": "104e24a0-e7a3-408c-9290-fefe5816d698",
   "metadata": {},
   "outputs": [],
   "source": [
    "# Variablenzuweisung\n",
    "a = 4\n",
    "b = 4.0\n",
    "c = 1.99\n",
    "d = True"
   ]
  },
  {
   "cell_type": "code",
   "execution_count": 21,
   "id": "d1933701-41f3-4bc2-89f6-58bc6ef83350",
   "metadata": {},
   "outputs": [
    {
     "name": "stdout",
     "output_type": "stream",
     "text": [
      "16\n",
      "16.0\n",
      "2\n",
      "16.0\n",
      "2\n",
      "4.0\n",
      "2.0\n"
     ]
    }
   ],
   "source": [
    "# Erläutern Sie das Verhalten folgender Berechnungen\n",
    "print(a*a)\n",
    "print(b*b)\n",
    "print(d+d)\n",
    "print(b*a)\n",
    "\n",
    "print(int(b/c))\n",
    "print(int(b)/int(c))\n",
    "print(b//c)"
   ]
  },
  {
   "cell_type": "markdown",
   "id": "5d36c009-957e-46c6-97de-784119e9c1c6",
   "metadata": {},
   "source": [
    "## Tupel, Listen und Strings"
   ]
  },
  {
   "cell_type": "code",
   "execution_count": null,
   "id": "80593674-3bd7-408f-9e1a-bac4fc722d43",
   "metadata": {},
   "outputs": [
    {
     "name": "stdout",
     "output_type": "stream",
     "text": [
      "0\n",
      "(4, 2)\n",
      "(5, 6, 7)\n",
      "8\n",
      "True\n",
      "7\n",
      "(0, 1, 2, 3, 4, (5, 6, 7), [8, 'Neun'], '10')\n"
     ]
    }
   ],
   "source": [
    "# Tupel (immutable)\n",
    "tupel = (0,1,2,3,4,(5,6,7),[8,9],'10')\n",
    "# Lesen\n",
    "print(tupel[0])\n",
    "print(tupel[-4:0:-2])\n",
    "print(tupel[5])\n",
    "print(len(tupel))\n",
    "print(2 in tupel)\n",
    "print(tupel.index('10'))\n",
    "\n",
    "# Schreiben\n",
    "#tupel[1] = 2                                                            # Zeile A\n",
    "tupel[6][1] = 'Neun' \n",
    "print(tupel)                                                   # Zeile B\n",
    "tupel = tupel [0:4] + tupel[5] + tuple(tupel[6]) + tuple(tupel[7])    # Zeile C\n",
    "print (tupel)\n",
    "\n",
    "# Warum wirft Zeile A einen Fehler, Zeile B aber nicht?\n",
    "# Korrigieren Sie den Code in Zeile C, so dass die '10' als einzelner String erscheint (und nicht als '1', '0') "
   ]
  },
  {
   "cell_type": "code",
   "execution_count": null,
   "id": "f1479943-c490-4570-94c9-1176bc7f236c",
   "metadata": {},
   "outputs": [
    {
     "name": "stdout",
     "output_type": "stream",
     "text": [
      "0\n",
      "[4, 2]\n",
      "(5, 6, 7)\n",
      "8\n",
      "True\n",
      "7\n",
      "[1, 5, 6, 8, 9, 9, 10]\n",
      "['B', 'Z', 'H', 'Q', 'F', 'G', 'I']\n",
      "None\n",
      "['B', 'F', 'G', 'H', 'I', 'Q', 'Z']\n",
      "[(1, 'B'), (5, 'Z'), (6, 'H'), (8, 'Q'), (9, 'F'), (9, 'G'), (10, 'I')]\n"
     ]
    }
   ],
   "source": [
    "# Listen (mutable)\n",
    "liste = [0,1,2,3,4,(5,6,7),[8,9],'10']\n",
    "# Lesen\n",
    "\n",
    "\n",
    "# Schreiben\n",
    "liste[1] = 2\n",
    "# liste[5][1] = 'Neun'\n",
    "liste[6][1] = 'Acht'\n",
    "\n",
    "# sort, sorted\n",
    "a = 10\n",
    "zahlen = [9,5,6,a,1,9,8]\n",
    "buchstaben = ['B','Z','H','Q','F','G','I']\n",
    "\n",
    "numb = zahlen.sort()\n",
    "abc = sorted(buchstaben)\n",
    "\n",
    "print(zahlen)\n",
    "print(buchstaben)\n",
    "print(numb)\n",
    "print(abc)\n",
    "\n",
    "# Oftmals praktisch: zip()\n",
    "mix = list(zip(zahlen,buchstaben))\n",
    "print(mix)\n",
    "\n",
    "# Warum wirft der Code einen Fehler? (löschen/Korrigieren Sie ihn)\n",
    "# Erläutern Sie den Unterschied zwischen liste.sort() und sorted(liste)\n",
    "# Welche Funktionalität liefert zip()?\n",
    "# Lässt sich mix auch einfach sortieren?"
   ]
  },
  {
   "cell_type": "code",
   "execution_count": 7,
   "id": "2495fdf9",
   "metadata": {},
   "outputs": [
    {
     "name": "stdout",
     "output_type": "stream",
     "text": [
      "[9, 5, 6, 10, 1, 9, 8]\n",
      "[1, 5, 6, 8, 9, 9, 10]\n"
     ]
    }
   ],
   "source": [
    "zahlen = [9,5,6,10,1,9,8]\n",
    "s_zahlen = sorted(zahlen)\n",
    "print(zahlen)\n",
    "print(s_zahlen)"
   ]
  },
  {
   "cell_type": "code",
   "execution_count": 148,
   "id": "f93eceaa-cd73-4a89-8d8b-05ef6a46ceab",
   "metadata": {},
   "outputs": [
    {
     "name": "stdout",
     "output_type": "stream",
     "text": [
      "\"Es ist heiß heute\n",
      "['\"Es', 'ist', 'heiß', 'heute']\n",
      "\"ES IST HEISS HEUTE\n",
      "\"es ist heiss heute\n",
      "b'\\xff\\xfe\"\\x00E\\x00s\\x00 \\x00i\\x00s\\x00t\\x00 \\x00h\\x00e\\x00i\\x00\\xdf\\x00 \\x00h\\x00e\\x00u\\x00t\\x00e\\x00'\n",
      "\"Es ist heiß heute\n",
      "Klaus sagt: \"Es ist heiß heute\"(lt. Wetterbericht 25°C)\n"
     ]
    }
   ],
   "source": [
    "# Stings (immutable)\n",
    "text = 'Klaus sagt: \"Es ist heiß heute\"'\n",
    "\n",
    "rede= text[text.index('\"'):-1]                                 # Zeile A\n",
    "print(rede)\n",
    "print(rede.split())\n",
    "print(rede.upper())\n",
    "print(rede.casefold())\n",
    "\n",
    "encoded_text = rede.encode('utf-16')                            # Zeile B\n",
    "print(encoded_text)\n",
    "print(encoded_text.decode('utf-16')) \n",
    "\n",
    "print(text + \"(lt. Wetterbericht \" + 38 + \"°C)\")               # Zeile C\n",
    "\n",
    "formatted = text + \"(lt. Wetterbericht {0}°C)\".format(12+13)\n",
    "print(formatted)\n",
    "\n",
    "# Passen Sie Zeile A so an, dass auch das zweite Anführungszeichen erscheint (\"Es ist heiß heute\")\n",
    "# Können Sie Zeile B so anpassen, dass Sie auch eine ascii Kodierung verwenden? Passen Sie den Code an.\n",
    "# Korrigieren Sie den Fehler in Zeile C"
   ]
  },
  {
   "cell_type": "code",
   "execution_count": 186,
   "id": "34470075-d1dd-408d-ab0b-ac9a17ba38d6",
   "metadata": {},
   "outputs": [
    {
     "name": "stdout",
     "output_type": "stream",
     "text": [
      "Gleicher Wert von a und b: True\n",
      "Gleiche Identität von a und b: True\n",
      "Identität von a: 2995910090144 und b: 2995910090144\n",
      "Gleicher Wert von alist und blist: True\n",
      "Gleiche Identität von alist und blist: False\n",
      "Identität von a: 2995901803968 und b: 2995905539200\n"
     ]
    }
   ],
   "source": [
    "# Gleichheit und Identität\n",
    "a, b = 'Hallo', 'Hallo'\n",
    "\n",
    "print(f\"Gleicher Wert von a und b: {a==b}\" )\n",
    "print(f\"Gleiche Identität von a und b: {a is b}\" )\n",
    "print(f\"Identität von a: {id(a)} und b: {id(b)}\")\n",
    "\n",
    "alist = list(a)\n",
    "blist = list(b)\n",
    "\n",
    "print(f\"Gleicher Wert von alist und blist: {alist==blist}\" )\n",
    "print(f\"Gleiche Identität von alist und blist: {alist is blist}\" )\n",
    "print(f\"Identität von a: {id(alist)} und b: {id(blist)}\")"
   ]
  },
  {
   "cell_type": "code",
   "execution_count": null,
   "id": "00951df2-060f-47d6-849e-f6643487c0f7",
   "metadata": {},
   "outputs": [],
   "source": []
  }
 ],
 "metadata": {
  "kernelspec": {
   "display_name": "base",
   "language": "python",
   "name": "python3"
  },
  "language_info": {
   "codemirror_mode": {
    "name": "ipython",
    "version": 3
   },
   "file_extension": ".py",
   "mimetype": "text/x-python",
   "name": "python",
   "nbconvert_exporter": "python",
   "pygments_lexer": "ipython3",
   "version": "3.12.7"
  }
 },
 "nbformat": 4,
 "nbformat_minor": 5
}
